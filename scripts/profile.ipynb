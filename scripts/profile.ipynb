{
 "cells": [
  {
   "cell_type": "code",
   "execution_count": 1,
   "metadata": {
    "collapsed": true
   },
   "outputs": [],
   "source": [
    "import numpy as np\n",
    "from floater import hexgrid\n",
    "import pstats, cProfile\n"
   ]
  },
  {
   "cell_type": "code",
   "execution_count": 2,
   "metadata": {
    "collapsed": true
   },
   "outputs": [],
   "source": [
    "nx = 100\n",
    "ha = hexgrid.HexArray(shape=(nx,nx))\n",
    "pos = np.array([ha.pos(n) for n in range(ha.N)])\n",
    "x, y = pos.T\n",
    "x = (x-5)*2*np.pi/80\n",
    "y = (y - nx/2)*2*np.pi/100\n",
    "\n",
    "# Kelvin's cats eyes flow\n",
    "a = 0.8\n",
    "psi = np.log(np.cosh(y) + a*np.cos(x)) - np.log(1 + a)\n",
    "f = -psi.reshape(nx,nx)"
   ]
  },
  {
   "cell_type": "code",
   "execution_count": 3,
   "metadata": {
    "collapsed": false
   },
   "outputs": [
    {
     "name": "stdout",
     "output_type": "stream",
     "text": [
      "Sun Oct 11 16:55:57 2015    Profile.prof\n",
      "\n",
      "         43100 function calls in 2.805 seconds\n",
      "\n",
      "   Ordered by: internal time\n",
      "\n",
      "   ncalls  tottime  percall  cumtime  percall filename:lineno(function)\n",
      "     2691    1.950    0.001    2.067    0.001 hexgrid.pyx:325(_is_convex)\n",
      "        1    0.714    0.714    2.805    2.805 hexgrid.pyx:379(find_convex_regions)\n",
      "     5382    0.054    0.000    0.054    0.000 {method 'reduce' of 'numpy.ufunc' objects}\n",
      "     2691    0.020    0.000    2.088    0.001 hexgrid.pyx:371(_still_convex)\n",
      "     5383    0.012    0.000    0.012    0.000 {numpy.core.multiarray.array}\n",
      "     5382    0.011    0.000    0.023    0.000 numeric.py:516(ascontiguousarray)\n",
      "     2691    0.007    0.000    0.040    0.000 _methods.py:28(_amin)\n",
      "     2696    0.006    0.000    0.006    0.000 stringsource:317(__cinit__)\n",
      "     2694    0.006    0.000    0.013    0.000 stringsource:613(memoryview_cwrapper)\n",
      "     2691    0.006    0.000    0.012    0.000 core.py:5776(isMaskedArray)\n",
      "     2691    0.006    0.000    0.006    0.000 {isinstance}\n",
      "     2691    0.005    0.000    0.025    0.000 _methods.py:25(_amax)\n",
      "        1    0.003    0.003    0.003    0.003 hexgrid.pyx:210(classify_critical_points)\n",
      "     2696    0.002    0.000    0.002    0.000 stringsource:339(__dealloc__)\n",
      "     2694    0.002    0.000    0.002    0.000 stringsource:619(memoryview_check)\n",
      "        1    0.000    0.000    0.000    0.000 {method 'nonzero' of 'numpy.ndarray' objects}\n",
      "        1    0.000    0.000    0.003    0.003 hexgrid.pyx:239(maxima)\n",
      "        1    0.000    0.000    2.805    2.805 <string>:1(<module>)\n",
      "        2    0.000    0.000    0.000    0.000 stringsource:866(pybuffer_index)\n",
      "        1    0.000    0.000    2.805    2.805 {floater.hexgrid.find_convex_regions}\n",
      "        1    0.000    0.000    0.000    0.000 hexgrid.pyx:35(__init__)\n",
      "        2    0.000    0.000    0.000    0.000 stringsource:356(__getitem__)\n",
      "        2    0.000    0.000    0.000    0.000 stringsource:956(memoryview_fromslice)\n",
      "        1    0.000    0.000    0.000    0.000 numeric.py:394(asarray)\n",
      "        1    0.000    0.000    0.000    0.000 fromnumeric.py:1380(nonzero)\n",
      "        2    0.000    0.000    0.000    0.000 stringsource:346(get_item_pointer)\n",
      "        2    0.000    0.000    0.000    0.000 stringsource:622(_unellipsify)\n",
      "        2    0.000    0.000    0.000    0.000 stringsource:932(__dealloc__)\n",
      "        2    0.000    0.000    0.000    0.000 stringsource:508(__get__)\n",
      "        1    0.000    0.000    0.000    0.000 hexgrid.pyx:251(__cinit__)\n",
      "        1    0.000    0.000    0.000    0.000 stringsource:468(__getbuffer__)\n",
      "        1    0.000    0.000    0.000    0.000 stringsource:935(convert_item_to_object)\n",
      "        1    0.000    0.000    0.000    0.000 {method 'disable' of '_lsprof.Profiler' objects}\n",
      "\n",
      "\n"
     ]
    },
    {
     "data": {
      "text/plain": [
       "<pstats.Stats instance at 0x7fe3900bf440>"
      ]
     },
     "execution_count": 3,
     "metadata": {},
     "output_type": "execute_result"
    }
   ],
   "source": [
    "cProfile.runctx(\"hexgrid.find_convex_regions(f)\", globals(), locals(), \"Profile.prof\")\n",
    "s = pstats.Stats(\"Profile.prof\")\n",
    "s.strip_dirs().sort_stats(\"time\").print_stats()\n",
    "\n"
   ]
  },
  {
   "cell_type": "code",
   "execution_count": null,
   "metadata": {
    "collapsed": true
   },
   "outputs": [],
   "source": []
  }
 ],
 "metadata": {
  "kernelspec": {
   "display_name": "Python 2.7",
   "language": "python",
   "name": "python2"
  },
  "language_info": {
   "codemirror_mode": {
    "name": "ipython",
    "version": 2
   },
   "file_extension": ".py",
   "mimetype": "text/x-python",
   "name": "python",
   "nbconvert_exporter": "python",
   "pygments_lexer": "ipython2",
   "version": "2.7.10"
  }
 },
 "nbformat": 4,
 "nbformat_minor": 0
}
